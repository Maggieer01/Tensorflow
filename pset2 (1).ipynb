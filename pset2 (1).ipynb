{
 "cells": [
  {
   "cell_type": "markdown",
   "metadata": {
    "nbpresent": {
     "id": "1d234e3f-af8b-4757-83f3-241b04b7a511"
<<<<<<< HEAD
    }
   },
   "source": [
    "# Problem Set 2: TensorFlow [70 pts]\n"
   ]
=======
    ]
>>>>>>> 2aff2a639cabb4ff08a4d7c5ff9155e72b5a7c22
  },
  {
   "cell_type": "markdown",
   "metadata": {
    "nbpresent": {
     "id": "b07b9992-b592-4871-9f9a-3b0ae5fa8b5f"
    }
   },
   "source": [
    "**Note**: The following has been verified to work with TensorFlow 2.0\n",
    "\n",
    "\\* Adapted from official TensorFlow&trade; tour guide.\n",
    "\n",
    "TensorFlow is a powerful library for doing large-scale numerical computation. One of the tasks at which it excels is implementing and training deep neural networks. In this assignment you will learn the basic building blocks of a TensorFlow model while constructing a deep convolutional MNIST classifier.\n",
    "\n",
    "What you are expected to implement in this tutorial:\n",
    "\n",
    "* Create a softmax regression function that is a model for recognizing MNIST digits, based on looking at every pixel in the image\n",
    "\n",
    "* Use Tensorflow to train the model to recognize digits by having it \"look\" at thousands of examples\n",
    "\n",
    "* Check the model's accuracy with MNIST test data\n",
    "\n",
    "* Build, train, and test a multilayer convolutional neural network to improve the results\n"
   ]
  },
  {
   "cell_type": "markdown",
   "metadata": {
    "nbpresent": {
     "id": "5516f610-f00c-43c3-bf19-4cf7ab9c089f"
    }
   },
   "source": [
    "## Data\n",
    "\n",
    "After importing tensorflow, we can download the MNIST dataset with the built-in TensorFlow/Keras method."
   ]
  },
  {
   "cell_type": "code",
   "execution_count": 101,
   "metadata": {
    "nbpresent": {
     "id": "5e05f980-3d14-4367-b3d1-664249145b13"
    }
   },
   "outputs": [
    {
     "data": {
      "text/plain": [
       "'2.4.1'"
      ]
     },
     "execution_count": 101,
     "metadata": {},
     "output_type": "execute_result"
    }
   ],
   "source": [
    "import os\n",
    "\n",
    "import tensorflow as tf\n",
    "import matplotlib.pyplot as plt\n",
    "import numpy as np\n",
    "\n",
    "os.environ['OMP_NUM_THREADS'] = '1'\n",
    "tf.__version__"
   ]
  },
  {
   "cell_type": "code",
   "execution_count": 116,
   "metadata": {
    "nbpresent": {
     "id": "58317664-8da3-4283-b3e5-35721687e7ab"
    }
   },
   "outputs": [
    {
     "data": {
      "image/png": "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\n",
      "text/plain": [
       "<Figure size 720x720 with 25 Axes>"
      ]
     },
     "metadata": {},
     "output_type": "display_data"
    }
   ],
   "source": [
    "(train_images, train_labels), (test_images, test_labels) = tf.keras.datasets.mnist.load_data()\n",
    "\n",
    "class_names = ['0', '1', '2', '3', '4',\n",
    "               '5', '6', '7', '8', '9']\n",
    "\n",
    "plt.figure(figsize=(10,10))\n",
    "for i in range(25):\n",
    "    plt.subplot(5,5,i+1)\n",
    "    plt.xticks([])\n",
    "    plt.yticks([])\n",
    "    plt.grid(False)\n",
    "    plt.imshow(train_images[i], cmap=plt.cm.binary)\n",
    "    plt.xlabel(class_names[train_labels[i]])\n",
    "plt.show()"
   ]
  },
  {
   "cell_type": "markdown",
   "metadata": {
    "nbpresent": {
     "id": "66140980-2aa4-457f-b1df-74c10c234cc2"
    }
   },
   "source": [
    "## [50 pts] 1. Build and Evaluate the CNN\n",
    "\n",
    "In this part we will build a customized TF2 Keras model. As input, a CNN takes tensors of shape (image_height, image_width, color_channels), ignoring the batch size. For MNIST, you will configure our CNN to process inputs of shape (28, 28, 1), which is the format of MNIST images. You can do this by passing the argument input_shape to our first layer.\n",
    "\n",
    "The overall architecture should be:\n",
    "\n",
    "```\n",
    "Model: \"customized_cnn\"\n",
    "_________________________________________________________________\n",
    "Layer (type)                 Output Shape              Param #   \n",
    "=================================================================\n",
    "conv2d_2 (Conv2D)            multiple                  320       \n",
    "_________________________________________________________________\n",
    "max_pooling2d_1 (MaxPooling2 multiple                  0         \n",
    "_________________________________________________________________\n",
    "conv2d_3 (Conv2D)            multiple                  18496     \n",
    "_________________________________________________________________\n",
    "flatten_1 (Flatten)          multiple                  0         \n",
    "_________________________________________________________________\n",
    "dense_2 (Dense)              multiple                  7930880   \n",
    "_________________________________________________________________\n",
    "dense_3 (Dense)              multiple                  10250     \n",
    "=================================================================\n",
    "Total params: 7,959,946\n",
    "Trainable params: 7,959,946\n",
    "Non-trainable params: 0\n",
    "_________________________________________________________________\n",
    "```\n",
    "### First Convolutional Layer [5 pts]\n",
    "\n",
    "We can now implement our first layer. The convolution will compute 32 features for each 3x3 patch. The first two dimensions are the patch size, the next is the number of input channels, and the last is the number of output channels.\n",
    "\n",
    "### Max Pooling Layer [5 pts]\n",
    "\n",
    "We stack max pooling layer after the first convolutional layer. These pooling layers will perform max pooling for each 2x2 patch.\n",
    "\n",
    "### Second Convolutional Layer [5 pts]\n",
    "\n",
    "In order to build a deep network, we stack several layers of this type. The second layer will have 64 features for each 3x3 patch.\n",
    "\n",
    "\n",
    "### Fully Connected Layers [10 pts]\n",
    "\n",
    "Now that the image size has been reduced to 11x11, we add a fully-connected layer with 128 neurons to allow processing on the entire image. We reshape the tensor from the second convolutional layer into a batch of vectors before the fully connected layer.\n",
    "\n",
    "The output layer should also be implemented via a fully connect layer.\n",
    "\n",
    "\n",
    "### Complete the Computation Graph [15 pts]\n",
    "\n",
    "Please complete the following function:\n",
    "\n",
    "```def call(self, inputs, training=None, mask=None):```\n",
    "\n",
    "To apply the layer, we first reshape the input to a 4d tensor, with the second and third dimensions corresponding to image width and height, and the final dimension corresponding to the number of color channels (which is 1).\n",
    "\n",
    "We then convolve the reshaped input with the first convolutional layer and then the max pooling followed by the second convolutional layer. These convolutional layers and the pooling layer will reduce the image size to 11x11.\n",
    "\n",
    "### Dropout Layer [5 pts]\n",
    "Please add dropouts during training before each fully connected layers, as this helps avoid overfitting during training.\n",
    "https://www.cs.toronto.edu/~hinton/absps/JMLRdropout.pdf"
   ]
  },
  {
   "cell_type": "code",
   "execution_count": 120,
   "metadata": {
    "nbpresent": {
     "id": "71760e29-2b08-4259-93f1-ebe68cd74a6d"
    }
   },
   "outputs": [],
   "source": [
    "from tensorflow.keras.layers import *\n",
    "\n",
    "class CustomizedCNN(tf.keras.models.Model):\n",
    "\n",
    "    def __init__(self, *args, **kwargs):\n",
    "        super(CustomizedCNN, self).__init__()\n",
    "        self.conv1 = Conv2D(32,(3,3), activation = 'relu', input_shape = (28,28,1))\n",
    "        self.pool = MaxPooling2D(pool_size = (2,2))\n",
    "        self.conv2 = Conv2D(64,(3,3), activation = 'relu')\n",
    "        self.flat = Flatten()\n",
    "        self.drop1 = Dropout(0.5)\n",
    "        self.dense1 = Dense(128)\n",
    "        self.drop2 = Dropout(0.5)\n",
    "        self.dense2 = Dense(10)\n",
    "        \n",
    "\n",
    "    def call(self, inputs, training=None, mask=None):\n",
    "        x = inputs[..., tf.newaxis]\n",
    "        #x = tf.reshape(inputs,(32,28,28,1))\n",
    "        x = self.conv1(x)\n",
    "        x = self.pool(x)\n",
    "        x = self.conv2(x)\n",
    "        x = self.flat(x)\n",
    "        x = self.drop1(x)\n",
    "        x = self.dense1(x)\n",
    "        x = self.drop2(x)\n",
    "        x = self.dense2(x)\n",
    "        return x "
   ]
  },
  {
   "cell_type": "markdown",
   "metadata": {
    "nbpresent": {
     "id": "5d0bae73-5677-437f-af00-0a880b753345"
    }
   },
   "source": [
    "## Build the Model"
   ]
  },
  {
   "cell_type": "code",
   "execution_count": 121,
   "metadata": {
    "nbpresent": {
     "id": "5c52eeb2-1092-4d45-9e16-02219c82cb5e"
    }
   },
   "outputs": [
    {
     "name": "stdout",
     "output_type": "stream",
     "text": [
      "Model: \"customized_cnn_26\"\n",
      "_________________________________________________________________\n",
      "Layer (type)                 Output Shape              Param #   \n",
      "=================================================================\n",
      "conv2d_52 (Conv2D)           multiple                  320       \n",
      "_________________________________________________________________\n",
      "max_pooling2d_26 (MaxPooling multiple                  0         \n",
      "_________________________________________________________________\n",
      "conv2d_53 (Conv2D)           multiple                  18496     \n",
      "_________________________________________________________________\n",
      "flatten_26 (Flatten)         multiple                  0         \n",
      "_________________________________________________________________\n",
      "dropout_52 (Dropout)         multiple                  0         \n",
      "_________________________________________________________________\n",
      "dense_52 (Dense)             multiple                  991360    \n",
      "_________________________________________________________________\n",
      "dropout_53 (Dropout)         multiple                  0         \n",
      "_________________________________________________________________\n",
      "dense_53 (Dense)             multiple                  1290      \n",
      "=================================================================\n",
      "Total params: 1,011,466\n",
      "Trainable params: 1,011,466\n",
      "Non-trainable params: 0\n",
      "_________________________________________________________________\n"
     ]
    }
   ],
   "source": [
    "model = CustomizedCNN()\n",
    "model.build(input_shape=(None, 28, 28))\n",
    "model.summary()"
   ]
  },
  {
   "cell_type": "markdown",
   "metadata": {
    "nbpresent": {
     "id": "f407d2b5-3b1b-4a88-881f-2d15b7a5c682"
    }
   },
   "source": [
    "We can specify a loss function just as easily. Loss indicates how bad the model's prediction was on a single example; we try to minimize that while training across all the examples. Here, our loss function is the cross-entropy between the target and the softmax activation function applied to the model's prediction. As in the beginners tutorial, we use the stable formulation:"
   ]
  },
  {
   "cell_type": "code",
   "execution_count": 122,
   "metadata": {
    "nbpresent": {
     "id": "cdb90d24-6a23-4969-8138-f37e7050062d"
    }
   },
   "outputs": [],
   "source": [
    "model.compile(optimizer='adam',\n",
    "                loss=tf.keras.losses.SparseCategoricalCrossentropy(from_logits=True),\n",
    "                metrics=['accuracy'])"
   ]
  },
  {
   "cell_type": "markdown",
   "metadata": {
    "nbpresent": {
     "id": "1a6f61e8-2ae0-4730-ad8c-35c683033b04"
    }
   },
   "source": [
    "## Train and Evaluate the Model [5 pts]\n",
    "\n",
    "We will use a more sophisticated ADAM optimizer instead of a Gradient Descent Optimizer.\n",
    "\n",
    "Feel free to run this code. Be aware that it does 10 training epochs and may take a while (possibly up to half an hour), depending on your processor.\n",
    "\n",
    "The final test set accuracy after running this code should be approximately 98.7%  -- not state of the art, but respectable.\n",
    "\n",
    "We have learned how to quickly and easily build, train, and evaluate a fairly sophisticated deep learning model using TensorFlow."
   ]
  },
  {
   "cell_type": "code",
   "execution_count": 123,
   "metadata": {},
   "outputs": [
    {
     "name": "stdout",
     "output_type": "stream",
     "text": [
      "Epoch 1/10\n",
      "1920/1920 [==============================] - 33s 17ms/step - loss: 2.6676 - accuracy: 0.8152 - val_loss: 0.1088 - val_accuracy: 0.9652\n",
      "Epoch 2/10\n",
      "1920/1920 [==============================] - 32s 17ms/step - loss: 0.2217 - accuracy: 0.9368 - val_loss: 0.0800 - val_accuracy: 0.9750\n",
      "Epoch 3/10\n",
      "1920/1920 [==============================] - 32s 17ms/step - loss: 0.1556 - accuracy: 0.9549 - val_loss: 0.0724 - val_accuracy: 0.9780\n",
      "Epoch 4/10\n",
      "1920/1920 [==============================] - 32s 17ms/step - loss: 0.1298 - accuracy: 0.9620 - val_loss: 0.0579 - val_accuracy: 0.9832\n",
      "Epoch 5/10\n",
      "1920/1920 [==============================] - 32s 17ms/step - loss: 0.1156 - accuracy: 0.9662 - val_loss: 0.0618 - val_accuracy: 0.9820\n",
      "Epoch 6/10\n",
      "1920/1920 [==============================] - 32s 17ms/step - loss: 0.1034 - accuracy: 0.9697 - val_loss: 0.0575 - val_accuracy: 0.9818\n",
      "Epoch 7/10\n",
      "1920/1920 [==============================] - 32s 17ms/step - loss: 0.1016 - accuracy: 0.9707 - val_loss: 0.0666 - val_accuracy: 0.9836\n",
      "Epoch 8/10\n",
      "1920/1920 [==============================] - 32s 17ms/step - loss: 0.0908 - accuracy: 0.9731 - val_loss: 0.0596 - val_accuracy: 0.9847\n",
      "Epoch 9/10\n",
      "1920/1920 [==============================] - 32s 17ms/step - loss: 0.0848 - accuracy: 0.9755 - val_loss: 0.0636 - val_accuracy: 0.9820\n",
      "Epoch 10/10\n",
      "1920/1920 [==============================] - 35s 18ms/step - loss: 0.0785 - accuracy: 0.9766 - val_loss: 0.0599 - val_accuracy: 0.9854\n"
     ]
    }
   ],
   "source": [
    "train_images = train_images.astype(\"float32\")\n",
    "history = model.fit(\n",
    "    x = train_images,\n",
    "    y = train_labels,\n",
    "    batch_size = 25,\n",
    "    epochs = 10,\n",
    "    validation_split = 0.2) # Use correct args here."
   ]
  },
  {
   "cell_type": "code",
   "execution_count": 124,
   "metadata": {
    "nbpresent": {
     "id": "ff342098-784a-4e20-ac34-b74ca8ebe839"
    }
   },
   "outputs": [
    {
     "data": {
      "text/plain": [
       "<matplotlib.legend.Legend at 0x1466810dbb0>"
      ]
     },
     "execution_count": 124,
     "metadata": {},
     "output_type": "execute_result"
    },
    {
     "data": {
      "image/png": "iVBORw0KGgoAAAANSUhEUgAAAYgAAAEKCAYAAAAIO8L1AAAAOXRFWHRTb2Z0d2FyZQBNYXRwbG90bGliIHZlcnNpb24zLjMuMiwgaHR0cHM6Ly9tYXRwbG90bGliLm9yZy8vihELAAAACXBIWXMAAAsTAAALEwEAmpwYAAAxRElEQVR4nO3deXhV5b33//eXDGSeSAhDGIJCAlgQCYMzSrXaqliHglWpKFI9depwqvWpT+1T+6un01Fbjx5qwdpSrcVi1Tq0UhRtCTIpIpMSUEIghCSQkHm4f3+snWQn7ECA7OwMn9d15UrWsNf+7i2uz1r3vda9zDmHiIhIW/1CXYCIiHRPCggREQlIASEiIgEpIEREJCAFhIiIBKSAEBGRgIIWEGa2yMz2m9mmdpabmT1mZp+Y2UYzO8Nv2SVmts237L5g1SgiIu0L5hnE08AlR1l+KTDa97MAeALAzMKAx33LxwHXmdm4INYpIiIBBC0gnHMrgZKjrDILeMZ5coEkMxsMTAU+cc7lOedqged864qISBcKD+F7DwV2+03n++YFmj+tvY2Y2QK8MxBiY2MnZ2dnd36lIiK91Lp16w4459ICLQtlQFiAee4o8wNyzi0EFgLk5OS4tWvXdk51IiJ9gJl92t6yUAZEPjDMbzoDKAAi25kvIiJdKJSXub4EzPVdzTQdOOSc2wusAUabWaaZRQJzfOuKiEgXCtoZhJk9C8wAUs0sH/gBEAHgnHsSeBX4IvAJUAnM8y2rN7M7gDeAMGCRc+6jYNUpIiKBBS0gnHPXHWO5A77RzrJX8QJERERCRHdSi4hIQAoIEREJSAEhIiIBKSBERCQgBYSIiASkgBARkYAUECIiEpACQkREAlJAiIhIQAoIEREJSAEhIiIBKSBERCQgBYSIiASkgBARkYAUECIiEpACQkREAlJAiIhIQAoIEREJSAEhIiIBKSBERCQgBYSIiASkgBARkYAUECIiEpACQkREAlJAiIhIQOGhLkBERI6Tc3AoH/LXeD/VZXDl453+NgoIEekZGuqh+iBUlkBtOSRnQkxKqKvqGrWVsPd92P2eLxTWwuF93rLwKMiYAo2N0K9zG4UUECLS9eqqvB19VYnf72KoLA0wz/d39aEjtxM/GAaOg/RxkH6a93daFoT37/rP1Fmcg5I8LwTyfYGwbxO4Bm95ciaMOt8LhYwc73OHRQSlFAWEiJw456CmrJ2du28H32peqTevvqr9bUbGeWcG0Sne7+RMiBnQel5ENBTvgP2bofAjWP2/0FDrvd7CYMCpkD7eC46Bvt9JI8Csa76X41FdBgXrW84M8td43xF438XQM+Ccb7YEQmxql5WmgBCRIzkHFUVwaLfX1n0oHw7uhrJ8qDjQssOvKoXG+nY2YhCd3LJjTxgK6Z/zpv139jEDWv6OTj6xo/+GeijZ4YVF4UdecOxZBx/9pWWdyHgYOLb12Ub6OO89u0pjIxzY3tJ3kL/WqxXnLU/NgjGXwrApXiCkZUO/sK6rrw1zzoXszTtbTk6OW7t2bajLkJPR2ACf/gs+etH7Hz06yW9H4rdTiU5pfVQZHhnqynuWumoo2+MFwEG/EPAPhIaa1q+JiIHEDIgdCDHJbXbsAXb2UYkh3bkBUFMO+7e0hEZTgFQfbFknfsiRZxupYzqnmaqyxAuq5kBYBzW+prKoRN9Zge9n6GTv33sXM7N1zrmcgMsUEBJyzaGwDLa87B25hkfDkEleZ2RHmyWOGSTJredFxnbPJoeT5Zz3fR38zG/H37Tz9wVARVGbFxnED/ICoPlnmO/HNx2d3Du+L+egfC8UbobCTb7g2AxFW6GxzlunXzgMGO0LDd8ZR/o47/to7ztoqPe25d9UVPyxt8z6eeGTkQPDpnqBkHJKp3cqn4ijBYSamCQ0Guq9UNj8YksoRMTA6Ith/JXe78jY1q9p27HZ3L5deuS8kp3td2w2CYsMcAQcIFz6x3k7jH7h3hFxv4g20+Gtp8MiWs/r7J1q89F/gB1/0099devXNB39J2bAoAmtd/yJGZAwpGd37B4PM+/zJgyB0Z9vmd9QB8WftD7b2L0GNr3Qsk7/BF8z1XgvOGLTvKuL8tfCnvVQV+GtF5vmhcDp10HGVO9gp39cl37MzqAzCOk6DfXw6bte89GWl6HygF8ofBlGX3RkKHTGe1Ydq/O0tPXVMpUlLVeMdAbrd2SIHFfIhHkdr9UHveagiv1HvkdcgKP/pGEtf/eWo/9QqD7UppnKFx5NTUX9wr3QbWoqGjal+3aIB6AzCAmdhnrY9U7LmUJlsRcKY74A4670nSnEBO/9w8IhLs376ai2V+bUHvY6YhsbfL/r25kO9NNmnYZjLG+ermuZrqv1jm6jEiHrkgBH/0P7ztF/KEQlwvDp3k8T57yzuMP7vTOKiOjQ1RdEQQ0IM7sEeBQIA55yzj3cZnkysAg4BagGbnbObfIt+yYwH697/0NgnnOuzXmzdEsN9bBrpXemsPUVXyjEeqEw/ko49aLghsLJMvN2ClGJ0Efuw5LjZNYS0L1Y0ALCzMKAx4GLgHxgjZm95Jzb7Lfa/cD7zrkvm1m2b/2ZZjYUuAsY55yrMrPngTnA08GqV05SQx3sXOk7U3jFa6qJiPWOeMdd6TUf9dKjLJHeKphnEFOBT5xzeQBm9hwwC/APiHHATwCcc1vNbKSZpfvVFm1mdUAMUBDEWuVENNTBzrdbzhSqSr2ricZc4jtT+LxCQaQHC2ZADAV2+03nA9ParPMBcBXwrplNBUYAGc65dWb2c+AzoAr4u3Pu74HexMwWAAsAhg8f3rmfQI7UUAd5b8PmZbD1by2hkHWpd6Zw6kyFgkgvEcyACNSF3/aSqYeBR83sfbx+hg1Ava9vYhaQCRwE/mxmNzjn/nDEBp1bCCwE7yqmTqteWtTXtj5TqD7o3ZWadal3pnDKTIiICnGRItLZghkQ+cAwv+kM2jQTOefKgHkAZmbATt/PF4Cdzrki37K/AGcBRwSEBElzKPjOFKoPeteAN50pnHKhQkGklwtmQKwBRptZJrAHr5P5q/4rmFkSUOmcq8W7Ymmlc67MzD4DpptZDF4T00xANzgEU32Nd4333o3wWS5s+5t3/XdTKIz/shcKupxSpM8IWkA45+rN7A7gDbzLXBc55z4ys9t8y58ExgLPmFkDXuf1Lb5lq81sKbAeqMdreloYrFr7nJpyb/jgfRth7wdeKBRtaRl0LSrRGzBs/JUKBZE+THdS93YVxbDPFwJ7P/BCoXgHzd1BsWneXaCDJ8Jg3++kkd1ijBgRCT7dSd0XNN3Z6R8Eezd6wzM3SRzuhcCE2S2hED+oxwwJICJdSwHREzU2ek+c2vdBSxPRvo0tDxnBIHW0NzRA05nBoAl95/GMItIpFBDdXUOdNwyx/5nBvg+98YHAG/Rt4FjI+qIXBoMmeCNN9sCRI0Wke1FAdCe1ld4okf5nBvs3tzxKMSIWBp0Gp3+1pYkoLVsPyxHpZRobHeXV9ZRW1lJaWcvBqjoOVtZSWuH7XVnnza+s42BVLf3Dw3jh9rM6vQ4FRHfQUAf//hW8/dOWh+JEJ3shMO02XzPRREgZFfondInIcamua/B29L6d+8Gqlp17aYW3sz/YKgi86cZ2rh8yg8ToCJJjIkmKiWBgfBTpCcG5J0kBEWr5a+Glu2D/R5B9GUy8zguDxAx1Hot0Q1W1DRQcqqLgYBWFZTXNO/fmHX1FXcsRf2Ut1XWN7W4rOiKM5JgIEmMiSY6JYGxiNEkxLTv/5JhIkmMjSIz2lifHRJIQHUFYv67ZNyggQqW6DP75I3jvNxA/GOb8EbK/FOqqRPq02vpGCsuqKThYxd5D1c1BsPdgNQWHqtl7qIqDlXVHvK6fQZLfTn1oUhTjhySQHBNBUkxk8w6/eafvm46K6N4tAgqIUNj6N/jbd7zn4k5dABd+H6ISQl2VSK/W0OgoKq+h4JC3w997qIqC5t9VFByq5sDhGtreGpYYHcHgxCiGJEVzxvAkhiRFN08PSogiOTaS+P7h9Ouio/qupIDoSmV74bX/9J6sNnA8zP699xBzETkpzjlKK+u8Hb3f0b9/EBSWVVPfpmE/JjKseWefNSiewYnRDEmK8v32giC2f9/dTfbdT96VGhth3SJ484feFUkzfwBn3ek9d1hE2lVV20BJZS2lFbWUVHht+iW+v5uO/vf6mn7atvVHhvVjUGIUgxOjmJqZwuDEKAYnRTMk0QuAoUnRJESHY+rra5cCItj2b4GX74bdq2HUDLjsv72rkUT6mKareUoqvI7cpks4velaSnxX9TQFwdE6ePsZDIyPYkhSFOOGJPD5sQNbHf0PTooiNbZ/r2z26UoKiGCpq4Z3fg7vPgL94+HL/+sNcaGjFekFausbOVhZS4nfDr/tkX5pmx1+ZW1Du9tLjI4gJda7UmdIUwdvrNeZmxIb4fsdSXJsJCldfCVPX6aACIadK+Hle6Bkh3fZ6sU/htgBoa5K5Lg45ygsq2Hz3kNsLihj894ytu4tZ395DYdr6tt9XXz/cG/nHhtJalwko9PjSInx7dx9O/3kmIjmHX5SdAThYRocsjtSQHSmyhL4+wPw/h8gORNufBFOuSDUVYkcU31DI3kHKpqDoOl3SUVt8zojBsQwdlAC52elHbHD93b2ESRFRxIZrp19b6GA6AzOwYdL4fX7vGc0n/NNOP9ePZtZuqXDNfVs3ds6CLbtK6em3mvvjwzvR1Z6PBeNTWfckATGDUkge1A88VG6qKKvUUCcrJKd8LdvwY5/wtDJMPev3nhJIiEWqIloc0EZu4orm9dJiolg/JAE5p45wguDwYmMSoslQk0+ggLixDXUQ+7jsOIn3vhIl/4MptyisZIkJDraRDRucAJXn5HRfGYwKCFKl3lKuxQQJ2LPOu/S1X0fesNsf/Fn3thJIl3gmE1EYf3IGqQmIjl5CojjUXMYVvwYVj8JsQPhK7+HsZfr0lUJisZGx+7SSrbtK2fbvnK27FMTkXQtBURHbXsd/vZt77GeU26Bmf8XohJDXZX0EkXlNV4QFJazbV8Z2woP83Fheat7B4anxDB+iJqIpOsoII6lfB+8di9sfhHSxsLNb8DwaaGuSnqowzX1bC8sbz4r2LavnO2F5RT79RUMiI0ka1A8X8kZRvageLIGxTM6PZ64PjwmkISG/sW1p7ER1v8O/vEDqK/2Rlw96249vU06pLa+kZ0HKti6r6w5BLbuKye/tKp5nZjIMEanx/P5selk+YIga1A8qXH9Q1i5SAsFRCBF27xO6M9Wwchz4bJHIPXUUFcl3VBjo2PPwarm5qGt+8rZvq+cvAOHqWvwRg4N72eMSotl0vBk5kwZRtagBLLS48lIjtZYQdKtKSD81dfAO7+Ed34BkbEw63E4/Xp1QgsAxYf9+wm839v3lVPh108wNCma7EHxzBw7sPmMYFRqnO4ulh5JAdFk17+8s4bij+Fz18IXfgJxaaGuSkKksdGxcc8h/rmlkHWflbJtXzkHDrf0E6TERpKVHs+1OcPIGhTPmPR4xqTH6VJS6VUUEDWH4Y3vwfpnIGk43PACnPr5UFclIVBRU887Hx9g+ZZCVmzbz4HDtfQzGD8kkQuyvDOC7EEJjBkUR1pcf109JL2eAiIsEvZsgLPughn3eU1L0mfkl1ayfMt+lm/dT+6OYmobGomPCmdG1kBmZg9kRlYaSTG6MEH6JgVEeCTc+k9dndRHNDQ63t9d6oXClv1sKywHYFRqLF87awQXZqeTMzJZN5qJoIDwKBx6tfLqOt75+ABvbinkrW1FlFTUEtbPmDoyhe9/aSwXZg9kVFpcqMsU6XYUENIrfVZcyZtbCvnn1v2s3llMXYMjKSaCC7IGcmH2QM4bk0ZitDqURY5GASG9Qn1DI+s/O8jyrYUs37KfT/YfBmD0wDhuPieTz49NZ9KwJD25TOQ4KCCkxzpUVcfK7UUs31LIW9uLOFhZR0SYMS1zANdPG86F2QMZMUAXHYicKAWE9Cg7D1SwfIt3lrBmVwn1jY6U2EhmZqczc+xAzh2dqnsRRDqJAkK6tbqGRtbuKmW5rz8h70AFANmD4llw3ihmjk3n9GFJhGnICpFOF9SAMLNLgEeBMOAp59zDbZYnA4uAU4Bq4Gbn3CbfsiTgKeA0wPmWrQpmvdI9FJXX8M7HRazYVsTb2/ZTVl1PZFg/zjxlADedPZILsgYyLCUm1GWK9HpBCwgzCwMeBy4C8oE1ZvaSc26z32r3A+87575sZtm+9Wf6lj0KvO6cu8bMIgHtEXqpuoZGNnx2kLe37+ft7UVs2lMGQGpcfy45bRAzx6ZzzqmpxGq4a5EuFcz/46YCnzjn8gDM7DlgFuAfEOOAnwA457aa2UgzSweqgPOAm3zLaoFapNfYc7CKlduLeHtbEf/65ADlNfWE9TMmj0jmP7+Qxflj0hg3OEGjnYqEUDADYiiw2286H2j7pJ0PgKuAd81sKjACyAAagCJgsZlNBNYBdzvnKtq+iZktABYADB8+vLM/g3SS6roG1uwq4e1tRby9vYiPfZehDkmM4rKJQzh/TBpnnTqABHUwi3QbwQyIQId+rs30w8CjZvY+8CGwAagHIoAzgDudc6vN7FHgPuCBIzbo3EJgIUBOTk7b7UuIOOfYVVzJ29u8ZqNVecVU1zUSGd6PaZkpzJ4yjBlZaZySFqdB70S6qWMGhJldBrzqnGs8zm3nA8P8pjOAAv8VnHNlwDzf+xiw0/cTA+Q751b7Vl2KFxDSjVXU1LNqRzFvb/fOEj4rqQQgMzWWOVOGc35WGtMzBxAdGRbiSkWkIzpyBjEH7yj/BWCxc25LB7e9BhhtZpnAHt92vuq/gu9KpUpfH8N8YKUvNMrMbLeZZTnntuF1XG9GuhXnHNsKy5ubjdbsKqGuwRETGcZZpwzg1nMzOW9Mmm5WE+mhjhkQzrkbzCwBuA6vT8ABi4FnnXPlR3ldvZndAbyBd5nrIufcR2Z2m2/5k8BY4Bkza8ALgFv8NnEnsMR3BVMevjMNCa1DlXW8+8mB5iuOCstqAO++hJvPzuT8MWlMHplM/3CdJYj0dOZcx5rtzSwVuAG4B9gCnAo85pz7VdCqO045OTlu7dq1oS6jV2lsdHy451Bzs9GGz0ppdJAQFc65o9M4f0wa541JY1BiVKhLFZETYGbrnHM5gZZ1pA/icuBmvJvZfg9Mdc7tN7MYvKDoNgEhnaPpRrW3txfxzscHKKmoxQwmDE3kjgtO5fysNCZmaOA7kd6uI30Q1wL/7Zxb6T/TOVdpZjcHpywJlSWrP+WBFzfR6CA1LpIZY9I4PyuNc05NZUBc/1CXJyJdqCMB8QNgb9OEmUUD6c65Xc655UGrTLrc0nX5/J9lm5iRlcZ3Ls7SjWoifVxH2gj+DPhf4trgmye9yCsbC/ju0g8459RUnrxhMqcNTVQ4iPRxHQmIcN9lqEDzsBd6Rmcv8o/Nhdzz3PvkjEhh4dzJREXoCiQR6VhAFJnZFU0TZjYLOBC8kqQrrdxexDeWrGf80ER+e1MOMZEaEE9EPB3ZG9yGdz/Cr/GGz9gNzA1qVdIlcvOKWfD7tZw6MI5n5k3Vg3ZEpJWO3Ci3A5huZnF49020e3Oc9BzrPyvllqfXkJEcw+9vmUpijMJBRFrrUHuCmX0JGA9ENQ2s5pz7f0GsS4Jo055DfG3Re6TF9+eP86fp8lURCeiYfRBm9iQwG2/oC8O7L2JEkOuSINleWM6Nv11NQlQES26dzsAE3QEtIoF1pJP6LOfcXKDUOfdD4Exaj9IqPURe0WG++pvVRIT144+3TmNoUnSoSxKRbqwjAVHt+11pZkOAOiAzeCVJMOwuqeT6p1bjnOOPt07TCKsickwd6YN42Tcs98+A9XgP/flNMIuSzrXvUDVffSqXytoGnr11OqcOjA91SSLSAxw1IMysH7DcOXcQeMHMXgGinHOHuqI4OXlF5TV89alcSivqWDJ/GuOGJIS6JBHpIY7axOR7itwv/KZrFA49R2lFLTf+djV7D1azeN4UJg5LCnVJItKDdKQP4u9mdrXpwcE9Sll1HXMXvUfegQqe+loOU0amhLokEelhOtIH8S0gFqg3s2q8S12dc05tFd1URU098xavYeu+MhbemMPZp6aGuiQR6YE6cie1ejR7kOq6Bub/bi3v7z7Ir6+bxAXZA0Ndkoj0UB15otx5gea3fYCQhF5NfQNf//06cncW899fOZ1LPzc41CWJSA/WkSam//T7OwqYCqwDLgxKRXJC6hoauevZDby9vYj/uvpzXDlpaKhLEpEeriNNTJf7T5vZMOCnQatIjltDo+Pbz3/AGx8V8uDl45g9ZXioSxKRXuBEnjqfD5zW2YXIiWlsdNz3wkZe+qCA+y7N5qazdZO7iHSOjvRB/Arv7mnwAuV04IMg1iQd5JzjwZc/4s/r8rl75mhuO/+UUJckIr1IR/og1vr9XQ8865z7V5DqkQ5yzvGT17byzKpP+fp5o7jn86NDXZKI9DIdCYilQLVzrgHAzMLMLMY5Vxnc0uRoHnnzYxauzGPumSO479JsdB+jiHS2jvRBLAf8x4WOBt4MTjnSEU+8tYNHl3/MV3IyePDy8QoHEQmKjgRElHPucNOE7++Y4JUkR/P0v3byX69v5YqJQ/jJVRPo10/hICLB0ZGAqDCzM5omzGwyUBW8kqQ9z733GQ++vJkvjE/nF1+ZSJjCQUSCqCN9EPcAfzazAt/0YLxHkEoXenHDHr637ENmZKXx2HWTiAg7kSuURUQ6riM3yq0xs2wgC2+gvq3OubqgVybNXvtwL9/+8wdMzxzAkzdMpn94WKhLEpE+4JiHoWb2DSDWObfJOfchEGdm/xH80gTgn1sLueu5DZw+LImnvpZDVITCQUS6RkfaKW71PVEOAOdcKXBr0CqSZv/65AC3/WE92YMSWDxvCrH9O9IiKCLSOToSEP38HxZkZmFAZPBKEoA1u0qY/7u1jEqN5Zmbp5IQFRHqkkSkj+nIIekbwPNm9iTekBu3Aa8Ftao+7oPdB5m3eA2Dk6L4/S3TSI5VHotI1+tIQNwLLABux+uk3oB3JZMEweaCMuYueo/k2Aj+OH86afH9Q12SiPRRx2xics41ArlAHpADzAS2dGTjZnaJmW0zs0/M7L4Ay5PNbJmZbTSz98zstDbLw8xsg5m90qFP08N9sr+cG3+7mpjIMP44fzqDEqNCXZKI9GHtnkGY2RhgDnAdUAz8CcA5d0FHNuzrq3gcuAhviPA1ZvaSc26z32r3A+87577su5T2cbwAanI3Xhj1+udfl1fXcf1TqzEzlsyfxrAU3awuIqF1tDOIrXg768udc+c4534FNBzHtqcCnzjn8pxztcBzwKw264zDG+sJ59xWYKSZpQOYWQbwJeCp43jPHuvfO4opLKvhv2dPZFRaXKjLERE5akBcDewDVpjZb8xsJl4fREcNBXb7Tef75vn7ALgKwMymAiOADN+yR4DvAo1HexMzW2Bma81sbVFR0XGU173k5hUTFdGPqZkpoS5FRAQ4SkA455Y552YD2cBbwDeBdDN7wswu7sC2A4WJazP9MJBsZu8Dd+J1gNeb2WXAfufcumO9iXNuoXMuxzmXk5aW1oGyuqfcvBImj0jWXdIi0m10pJO6wjm3xDl3Gd7R/fvAER3OAeQDw/ymM4AC/xWcc2XOuXnOudOBuUAasBM4G7jCzHbhNU1daGZ/6MB79kilFbVs2VvGmaMGhLoUEZFmxzXim3OuxDn3v865Czuw+hpgtJllmlkkXof3S/4rmFmSbxnAfGClLzS+55zLcM6N9L3un865G46n1p5k9c4SAKYrIESkGwna2A3OuXozuwPvRrswYJFz7iMzu823/ElgLPCMmTUAm4FbglVPd9bU/zAhIynUpYiINAvq4D7OuVeBV9vMe9Lv71XAUR+m7Jx7C68PpNfKzSsmZ0QKkeEawltEug/tkUKspKKWrfvKOfMUNS+JSPeigAix93YWAzB9lC5vFZHuRQERYrl5JURHhPG5oUmhLkVEpBUFRIit2lFMzshk9T+ISLejvVIIFR+uYVthuS5vFZFuSQERQu/p/gcR6cYUECG0Kq+YmMgwJmQkhroUEZEjKCBCKDevmJyRKUSE6T+DiHQ/2jOFyIHDNWwvPKzLW0Wk21JAhIj6H0Sku1NAhMiqHV7/w+eGqv9BRLonBUSI5OYVM0X9DyLSjWnvFAIHDtfw8f7Dal4SkW5NARECuXkaf0lEuj8FRAjk5hUTq/4HEenmFBAhkJtXwpTMFMLV/yAi3Zj2UF2sqLyGT9T/ICI9gAKii7X0PyggRKR7U0B0sdy8YuL6h3PakIRQlyIiclQKiC7m3f+QrP4HEen2tJfqQvvLqtlRVKHmJRHpERQQXSjXN/7SmacoIESk+1NAdKHcvGLi+4czbrD6H0Sk+1NAdKHcvGLd/yAiPYb2VF2ksKyavKIKDa8hIj2GAqKLNN3/cOao1BBXIiLSMQqILpKbV+L1P+j+BxHpIRQQXWR1XjFTM1MI62ehLkVEpEMUEF2gsKyavAMVurxVRHoUBUQX0PhLItITKSC6QG5eMfFR4YzV/Q8i0oMoILrAqh3FTFP/g4j0MAqIINt7qIpdxZVqXhKRHkcBEWSr87zxlxQQItLTBDUgzOwSM9tmZp+Y2X0Blieb2TIz22hm75nZab75w8xshZltMbOPzOzuYNYZTLl5xSSo/0FEeqCgBYSZhQGPA5cC44DrzGxcm9XuB953zk0A5gKP+ubXA992zo0FpgPfCPDaHmFVXjHTRg1Q/4OI9DjBPIOYCnzinMtzztUCzwGz2qwzDlgO4JzbCow0s3Tn3F7n3Hrf/HJgCzA0iLUGRcHBKj5V/4OI9FDBDIihwG6/6XyO3Ml/AFwFYGZTgRFAhv8KZjYSmASsDvQmZrbAzNaa2dqioqLOqbyTrN7ZdP+DBugTkZ4nmAERqE3FtZl+GEg2s/eBO4ENeM1L3gbM4oAXgHucc2WB3sQ5t9A5l+Ocy0lLS+uUwjvLqh3FJEZHMHaQ+h9EpOcJD+K284FhftMZQIH/Cr6d/jwAMzNgp+8HM4vAC4clzrm/BLHOoMnNK2FaZgr91P8gIj1QMM8g1gCjzSzTzCKBOcBL/iuYWZJvGcB8YKVzrswXFr8FtjjnfhnEGoNmz8EqPitR/4OI9FxBO4NwztWb2R3AG0AYsMg595GZ3eZb/iQwFnjGzBqAzcAtvpefDdwIfOhrfgK43zn3arDq7WyrNf6SiPRwwWxiwrdDf7XNvCf9/l4FjA7wuncJ3IfRY6zaUUxSTATZg+JDXYqIyAkJakD0Zbk7i9X/ICFVV1dHfn4+1dXVoS5FuoGoqCgyMjKIiIjo8GsUEEGQX1rJ7pIqbj47M9SlSB+Wn59PfHw8I0eOxOvWk77KOUdxcTH5+flkZnZ8v6SxmIIgV+MvSTdQXV3NgAEDFA6CmTFgwIDjPptUQARBbl4xyTERZKWr/0FCS+EgTU7k34ICIghy84qZljlA/Q8i0qMpIDrZ7pJK8kurNLyGiPR4CohO1vz86VPU/yDSFerr64+9kpwQXcXUyXLzSkiJjWTMQPU/SPfxw5c/YnNBwOHMTti4IQn84PLxR13nyiuvZPfu3VRXV3P33XezYMECXn/9de6//34aGhpITU1l+fLlHD58mDvvvJO1a9diZvzgBz/g6quvJi4ujsOHDwOwdOlSXnnlFZ5++mluuukmUlJS2LBhA2eccQazZ8/mnnvuoaqqiujoaBYvXkxWVhYNDQ3ce++9vPHGG5gZt956K+PGjePXv/41y5YtA+Af//gHTzzxBH/5S48c0SeoFBCdzOt/0P0PIgCLFi0iJSWFqqoqpkyZwqxZs7j11ltZuXIlmZmZlJR4V/z96Ec/IjExkQ8//BCA0tLSY257+/btvPnmm4SFhVFWVsbKlSsJDw/nzTff5P777+eFF15g4cKF7Ny5kw0bNhAeHk5JSQnJycl84xvfoKioiLS0NBYvXsy8efOC+j30VAqITrS7pJI9B6tYcN6oUJci0sqxjvSD5bHHHms+Ut+9ezcLFy7kvPPOa74WPyXF66t78803ee6555pfl5ycfMxtX3vttYSFhQFw6NAhvva1r/Hxxx9jZtTV1TVv97bbbiM8PLzV+91444384Q9/YN68eaxatYpnnnmmkz5x76KA6ESrfP0PZ6r/QYS33nqLN998k1WrVhETE8OMGTOYOHEi27ZtO2Jd51zAyzD957W9hj82Nrb57wceeIALLriAZcuWsWvXLmbMmHHU7c6bN4/LL7+cqKgorr322uYAkdbUSd2JcvOKSYmNZPTAuFCXIhJyhw4dIjk5mZiYGLZu3Upubi41NTW8/fbb7Ny5E6C5ieniiy/m17/+dfNrm5qY0tPT2bJlC42Njc1nIu2919Ch3vPInn766eb5F198MU8++WRzR3bT+w0ZMoQhQ4bw0EMPcdNNN3XaZ+5tFBCdxDnH6rwSpo9K0c1JIsAll1xCfX09EyZM4IEHHmD69OmkpaWxcOFCrrrqKiZOnMjs2bMB+P73v09paSmnnXYaEydOZMWKFQA8/PDDXHbZZVx44YUMHjy43ff67ne/y/e+9z3OPvtsGhoamufPnz+f4cOHM2HCBCZOnMgf//jH5mXXX389w4YNY9y4Hvm4+y5hzrV9yFvPlZOT49auXRuS9/6suJLzfraC/zdrPHPPHBmSGkT8bdmyhbFjx4a6jG7rjjvuYNKkSdxyyy3HXrmXCPRvwszWOedyAq2vhrdO0nT/w5kaf0mk25s8eTKxsbH84he/CHUp3ZoCopPk5hUzIDaSU9X/INLtrVu3LtQl9Ajqg+gEzjlW5RUzfZRGzhSR3kMB0Qk+K6lk76FqDa8hIr2KAqITtPQ/aIA+Eek9FBCdIDevhNS4SE5JU/+DiPQeCoiT5Jxj1Y5ipqn/QeSkxcV5B1kFBQVcc801AdeZMWMGx7qc/ZFHHqGysrJ5+otf/CIHDx7stDr7CgXESfq0uJJ9ZdW6vFWkEw0ZMoSlS5ee8OvbBsSrr75KUlJSJ1TWNZxzNDY2hroMXeZ6spqf/6CAkO7stftg34edu81Bn4NLH2538b333suIESP4j//4DwAefPBB4uPj+frXv86sWbMoLS2lrq6Ohx56iFmzZrV67a5du7jsssvYtGkTVVVVzJs3j82bNzN27Fiqqqqa17v99ttZs2YNVVVVXHPNNfzwhz/kscceo6CggAsuuIDU1FRWrFjByJEjWbt2Lampqfzyl79k0aJFgHen9T333MOuXbu49NJLOeecc/j3v//N0KFD+etf/0p0dHSrul5++WUeeughamtrGTBgAEuWLCE9Pb3d4coDDW3+4IMPEhcXx3e+8x0ATjvtNF555RUALr30Ui644AJWrVrFiy++yMMPP3zE5wNYs2YNd999NxUVFfTv35/ly5fzxS9+kV/96lecfvrpAJx99tk88cQTTJgw4YT/EysgTtKqvGLS4vtzSlrssVcW6UPmzJnDPffc0xwQzz//PK+//jpRUVEsW7aMhIQEDhw4wPTp07niiivabaJ94okniImJYePGjWzcuJEzzjijedmPf/xjUlJSaGhoYObMmWzcuJG77rqLX/7yl6xYsYLU1NRW21q3bh2LFy9m9erVOOeYNm0a559/PsnJyXz88cc8++yz/OY3v+ErX/kKL7zwAjfccEOr159zzjnk5uZiZjz11FP89Kc/5Re/+EXA4cqLiooCDm1+NNu2bWPx4sX8z//8T7ufLzs7m9mzZ/OnP/2JKVOmUFZWRnR0NPPnz+fpp5/mkUceYfv27dTU1JxUOIAC4qQ458jV/Q/SExzlSD9YJk2axP79+ykoKKCoqIjk5GSGDx9OXV0d999/PytXrqRfv37s2bOHwsJCBg0aFHA7K1eu5K677gJgwoQJrXZ6zz//PAsXLqS+vp69e/eyefPmo+4U3333Xb785S83jwR71VVX8c4773DFFVeQmZnZfPQ9efJkdu3adcTr8/PzmT17Nnv37qW2trZ52PJAw5W//PLLAYc2P5oRI0Ywffr0o34+M2Pw4MFMmTIFgISEBMAb/vxHP/oRP/vZz1i0aFGnDEKogDgJu4orKSyr0fOnRdpxzTXXsHTpUvbt28ecOXMAWLJkCUVFRaxbt46IiAhGjhx5xFDebQU6ANu5cyc///nPWbNmDcnJydx0003H3M7Rxp7r379/899hYWGtmrKa3HnnnXzrW9/iiiuu4K233uLBBx9s3m7bGtsbajw8PLxV/4J/zf5DmLf3+drbbkxMDBdddBF//etfef7554/Zkd8R6qQ+Cep/EDm6OXPm8Nxzz7F06dLmq5IOHTrEwIEDiYiIYMWKFXz66adH3cZ5553HkiVLANi0aRMbN24EoKysjNjYWBITEyksLOS1115rfk18fDzl5eUBt/Xiiy9SWVlJRUUFy5Yt49xzz+3w5/EfVvx3v/td8/xAw5WfeeaZAYc2HzlyJOvXrwdg/fr1zcvbau/zZWdnU1BQwJo1awAoLy9vHs58/vz53HXXXUyZMqVDZyzHooA4Cat2eP0Po1LV/yASyPjx4ykvL2fo0KHNw3Vff/31rF27lpycHJYsWUJ2dvZRt3H77bdz+PBhJkyYwE9/+lOmTp0KwMSJE5k0aRLjx4/n5ptv5uyzz25+zYIFC5o7fP2dccYZ3HTTTUydOpVp06Yxf/58Jk2a1OHP8+CDD3Lttddy7rnnturfCDRceXtDm1999dWUlJRw+umn88QTTzBmzJiA79Xe54uMjORPf/oTd955JxMnTuSiiy5qPguZPHkyCQkJnfYIVQ33fYKcc0z7/5YzfdQAHruu4//ARLqKhvvuewoKCpgxYwZbt26lX78jj/+Pd7hvnUGcoJ0HKthfXqPmJRHpFp555hmmTZvGj3/844DhcCLUSX2CVjX3P6iDWkRCb+7cucydO7dTt6kziBOUm1dCekJ/MtX/IN1Yb2pClpNzIv8WFBAnQPc/SE8QFRVFcXGxQkJwzlFcXExUVNRxvU5NTCcg70AFRep/kG4uIyOD/Px8ioqKQl2KdANRUVFkZGQc12sUECdg1Q7d/yDdX0RERPNdvCInIqhNTGZ2iZltM7NPzOy+AMuTzWyZmW00s/fM7LSOvjaUcvOKGZQQxcgBMaEuRUQkaIIWEGYWBjwOXAqMA64zs3FtVrsfeN85NwGYCzx6HK8NCa//oYTpo1LU/yAivVowzyCmAp845/Kcc7XAc8CsNuuMA5YDOOe2AiPNLL2Drw2JHUUVHDis/gcR6f2C2QcxFNjtN50PTGuzzgfAVcC7ZjYVGAFkdPC1AJjZAmCBb/KwmW07wXpTgQMdXfm6/4LrTvCNeoDj+i76AH0fren7aNEbvosR7S0IZkAEan9pe73dw8CjZvY+8CGwAajv4Gu9mc4tBBaeeJkeM1vb3u3mfY2+i9b0fbSm76NFb/8ughkQ+cAwv+kMoMB/BedcGTAPwLwG/Z2+n5hjvVZERIIrmH0Qa4DRZpZpZpHAHOAl/xXMLMm3DGA+sNIXGsd8rYiIBFfQziCcc/VmdgfwBhAGLHLOfWRmt/mWPwmMBZ4xswZgM3DL0V4brFp9TrqZqhfRd9Gavo/W9H206NXfRa8a7ltERDqPxmISEZGAFBAiIhJQnw+I7jykR1czs2FmtsLMtpjZR2Z2d6hrCjUzCzOzDWb2SqhrCTXfRSVLzWyr79/ImaGuKZTM7Ju+/082mdmzZnZ8Q6X2AH06ILrzkB4hUg982zk3FpgOfKOPfx8AdwNbQl1EN/Eo8LpzLhuYSB/+XsxsKHAXkOOcOw3vYpo5oa2q8/XpgKAbD+kRCs65vc659b6/y/F2AENDW1XomFkG8CXgqVDXEmpmlgCcB/wWwDlX65w7GNKiQi8ciDazcLx7t3rdvVp9PSACDenRZ3eI/sxsJDAJWB3iUkLpEeC7QGOI6+gORgFFwGJfk9tTZtZnH6fonNsD/Bz4DNgLHHLO/T20VXW+vh4QHR7Soy8xszjgBeAe342LfY6ZXQbsd86tC3Ut3UQ4cAbwhHNuElAB9Nk+OzNLxmttyASGALFmdkNoq+p8fT0gjjkcSF9jZhF44bDEOfeXUNcTQmcDV5jZLrymxwvN7A+hLSmk8oF851zTGeVSvMDoqz4P7HTOFTnn6oC/AGeFuKZO19cDQkN6+PGNh/VbYItz7pehrieUnHPfc85lOOdG4v27+KdzrtcdIXaUc24fsNvMsnyzZuKNftBXfQZMN7MY3/83M+mFnfZ9+pGjIRrSozs7G7gR+NA3wi7A/c65V0NXknQjdwJLfAdTefgG2uyLnHOrzWwpsB7v6r8N9MJhNzTUhoiIBNTXm5hERKQdCggREQlIASEiIgEpIEREJCAFhIiIBKSAEDkOZtZgZu/7/XTa3cRmNtLMNnXW9kROVp++D0LkBFQ5504PdREiXUFnECKdwMx2mdl/mdl7vp9TffNHmNlyM9vo+z3cNz/dzJaZ2Qe+n6ZhGsLM7De+5wz83cyiQ/ahpM9TQIgcn+g2TUyz/ZaVOeemAr/GGwkW39/POOcmAEuAx3zzHwPeds5NxBvTqOkO/tHA48658cBB4OqgfhqRo9Cd1CLHwcwOO+fiAszfBVzonMvzDXi4zzk3wMwOAIOdc3W++Xudc6lmVgRkOOdq/LYxEviHc260b/peIMI591AXfDSRI+gMQqTzuHb+bm+dQGr8/m5A/YQSQgoIkc4z2+/3Kt/f/6blUZTXA+/6/l4O3A7Nz71O6KoiRTpKRycixyfab6Rb8J7R3HSpa38zW4134HWdb95dwCIz+0+8J7I1jYB6N7DQzG7BO1O4He/JZCLdhvogRDqBrw8ixzl3INS1iHQWNTGJiEhAOoMQEZGAdAYhIiIBKSBERCQgBYSIiASkgBARkYAUECIiEtD/D/vhl7pysNFpAAAAAElFTkSuQmCC\n",
      "text/plain": [
       "<Figure size 432x288 with 1 Axes>"
      ]
     },
     "metadata": {
      "needs_background": "light"
     },
     "output_type": "display_data"
    }
   ],
   "source": [
    "plt.plot(history.history['accuracy'], label='accuracy')\n",
    "plt.plot(history.history['val_accuracy'], label = 'validation accuracy')\n",
    "plt.xlabel('Epoch')\n",
    "plt.ylabel('Accuracy')\n",
    "plt.ylim([0.9, 1])\n",
    "plt.legend(loc='lower right')"
   ]
  },
  {
   "cell_type": "code",
   "execution_count": 125,
   "metadata": {
    "nbpresent": {
     "id": "d830cf58-fade-43e0-81c5-52632245d5d4"
    }
   },
   "outputs": [
    {
     "name": "stdout",
     "output_type": "stream",
     "text": [
      "313/313 [==============================] - 2s 5ms/step - loss: 0.0558 - accuracy: 0.9836\n",
      "0.9836000204086304\n"
     ]
    }
   ],
   "source": [
    "test_images = test_images.astype(\"float32\")\n",
    "test_loss, test_acc = model.evaluate(test_images,  test_labels)\n",
    "print(test_acc)"
   ]
  },
  {
   "cell_type": "markdown",
   "metadata": {},
   "source": [
    "## [20pts] 2. Simple Regularization Methods\n",
    "You may have noticed the `reg` parameter in `TwoLayerMLP.loss`, controlling \"regularization strength\". In learning neural networks, aside from minimizing a loss function $\\mathcal{L}(\\theta)$ with respect to the network parameters $\\theta$, we usually explicitly or implicitly add some regularization term to reduce overfitting. A simple and popular regularization strategy is to penalize some *norm* of $\\theta$."
   ]
  },
  {
   "cell_type": "markdown",
   "metadata": {},
   "source": [
    "### [10pts] Q2.1:  L2 regularization\n",
    "\n",
    "We can penalize the L2 norm of $\\theta$: we modify our objective function to be $\\mathcal{L}(\\theta) + \\lambda \\|\\theta\\|^2$ where $\\lambda$ is the weight of regularization. \n",
    "We will minimize this objective using gradient descent with step size $\\eta$.\n",
    "Derive the update rule: at time $t+1$, express the new parameters $\\theta_{t+1}$ in terms of the old parameters $\\theta_t$, the gradient $g_t=\\frac{\\partial \\mathcal{L}}{\\partial \\theta_t}$, $\\eta$, and $\\lambda$."
   ]
  },
  {
   "cell_type": "markdown",
   "metadata": {},
   "source": [
    "** $\\theta_{t+1} = \\theta_{t} - \\eta * (g_t + 2\\lambda\\theta_{t})$\n",
    "<br>\n",
    "                $ \\,\\,\\,\\,\\,\\,\\,\\,\\,\\,\\,\\,\\,\\,\\,= \\theta_{t} - \\eta *  \\frac{\\partial \\mathcal{L}}{\\partial \\theta_t} - 2\\eta\\lambda\\theta_{t} $ **"
   ]
  },
  {
   "cell_type": "markdown",
   "metadata": {},
   "source": [
    "### [10pts] Q2.2:  L1 regularization\n",
    "\n",
    "Now let's consider L1 regularization: our objective in this case is $\\mathcal{L}(\\theta) + \\lambda \\|\\theta\\|_1$. Derive the update rule. \n",
    "\n",
    "(Technically this becomes *Sub-Gradient* Descent since the L1 norm is not differentiable at 0. But practically it is usually not an issue.)"
   ]
  },
  {
   "cell_type": "markdown",
   "metadata": {},
   "source": [
    "** $\\theta_{t+1} = \\theta_{t} - \\eta * (g_t + \\lambda*sgn(\\theta_{t}))$ \n",
    "<br>\n",
    " $ \\,\\,\\,\\,\\,\\,\\,\\,\\,\\,\\,\\,\\,\\,\\,= \\theta_{t} - \\eta * \\frac{\\partial \\mathcal{L}}{\\partial \\theta_t} -\\eta \\lambda*sgn(\\theta_{t}))$\n",
    "where sgn is the sign function\n",
    "<br>\n",
    "$sgn(\\theta)$ = 1 when $\\theta$ > 0, and $sgn(\\theta)$ = - 1 when $\\theta$ < 0, sign(0) = 0 **"
   ]
  }
 ],
 "metadata": {
  "kernelspec": {
   "display_name": "Python 3",
   "language": "python",
   "name": "python3"
  },
  "language_info": {
   "codemirror_mode": {
    "name": "ipython",
    "version": 3
   },
   "file_extension": ".py",
   "mimetype": "text/x-python",
   "name": "python",
   "nbconvert_exporter": "python",
   "pygments_lexer": "ipython3",
   "version": "3.8.5"
  },
  "latex_envs": {
   "LaTeX_envs_menu_present": true,
   "autoclose": false,
   "autocomplete": true,
   "bibliofile": "biblio.bib",
   "cite_by": "apalike",
   "current_citInitial": 1,
   "eqLabelWithNumbers": true,
   "eqNumInitial": 1,
   "hotkeys": {
    "equation": "Ctrl-E",
    "itemize": "Ctrl-I"
   },
   "labels_anchors": false,
   "latex_user_defs": false,
   "report_style_numbering": false,
   "user_envs_cfg": false
  },
  "toc": {
   "base_numbering": 1,
   "nav_menu": {},
   "number_sections": true,
   "sideBar": true,
   "skip_h1_title": false,
   "title_cell": "Table of Contents",
   "title_sidebar": "Contents",
   "toc_cell": false,
   "toc_position": {},
   "toc_section_display": true,
   "toc_window_display": false
  },
  "varInspector": {
   "cols": {
    "lenName": 16,
    "lenType": 16,
    "lenVar": 40
   },
   "kernels_config": {
    "python": {
     "delete_cmd_postfix": "",
     "delete_cmd_prefix": "del ",
     "library": "var_list.py",
     "varRefreshCmd": "print(var_dic_list())"
    },
    "r": {
     "delete_cmd_postfix": ") ",
     "delete_cmd_prefix": "rm(",
     "library": "var_list.r",
     "varRefreshCmd": "cat(var_dic_list()) "
    }
   },
   "types_to_exclude": [
    "module",
    "function",
    "builtin_function_or_method",
    "instance",
    "_Feature"
   ],
   "window_display": false
  }
 },
 "nbformat": 4,
 "nbformat_minor": 4
}
